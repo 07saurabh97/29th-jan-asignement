{
 "cells": [
  {
   "cell_type": "markdown",
   "id": "27d0ac51-6d5e-453a-850f-743341660475",
   "metadata": {},
   "source": [
    "Question 1. Who develop python programming language?"
   ]
  },
  {
   "cell_type": "markdown",
   "id": "333b966d-8bef-45bf-a253-ec3bb15ee40e",
   "metadata": {},
   "source": [
    "Guido van Rossum develop python programming language"
   ]
  },
  {
   "cell_type": "markdown",
   "id": "7e6429da-e5ab-4e13-bf5b-908689caa1c2",
   "metadata": {},
   "source": [
    "question 2. Which type of programming does python support?"
   ]
  },
  {
   "cell_type": "markdown",
   "id": "af9f6144-889e-48cb-a667-beba52d51aac",
   "metadata": {},
   "source": [
    "object oriented, structured and functional programming"
   ]
  },
  {
   "cell_type": "markdown",
   "id": "04795587-f02e-42fa-9f8e-bf1ad216ad5b",
   "metadata": {},
   "source": [
    "Question 3. Is python is case sensitive when dealing with Identifiers?"
   ]
  },
  {
   "cell_type": "markdown",
   "id": "887884cb-640e-409e-a623-b2069d5a5af0",
   "metadata": {},
   "source": [
    "yes, python is case sensitive when dealing with identifiers"
   ]
  },
  {
   "cell_type": "markdown",
   "id": "22c84b21-7db9-4fc3-9aef-f9b17e515a5c",
   "metadata": {},
   "source": [
    "Question 4. What is th ecorrect extension of python file?"
   ]
  },
  {
   "cell_type": "markdown",
   "id": "01c990c8-3b03-4f29-a8f3-7dba154780e6",
   "metadata": {},
   "source": [
    "correct extraction of python file is \".py\""
   ]
  },
  {
   "cell_type": "markdown",
   "id": "199da255-0607-42ad-acfb-878b2855c370",
   "metadata": {},
   "source": [
    "Question 5. Is python code complie or interpreted? "
   ]
  },
  {
   "cell_type": "markdown",
   "id": "22b375c2-fa58-4b17-9770-3a0efe3a1324",
   "metadata": {},
   "source": [
    "python is a interpreted language"
   ]
  },
  {
   "cell_type": "markdown",
   "id": "db3f22d3-3e78-438d-9c5e-6b3c2214b66d",
   "metadata": {},
   "source": [
    "Question 6. Name a few block of code used to define in python language"
   ]
  },
  {
   "cell_type": "markdown",
   "id": "f5b505b9-2c39-43c7-9add-bfc8ab242a29",
   "metadata": {},
   "source": [
    "1. Function defination block\n",
    "2. Conditional statement block\n",
    "3. Loop block"
   ]
  },
  {
   "cell_type": "markdown",
   "id": "384c3d54-d116-46ad-86eb-c40bbddf8397",
   "metadata": {},
   "source": [
    "Question 7. State a character used to give single-line comments in python."
   ]
  },
  {
   "cell_type": "markdown",
   "id": "e838fb79-a2e5-4bc8-8b10-ef3e55bbd773",
   "metadata": {},
   "source": [
    "\"#\" hash symbol is used to give single-line comment"
   ]
  },
  {
   "cell_type": "markdown",
   "id": "dece001f-2cce-4b6c-8ab7-f3aae6199932",
   "metadata": {},
   "source": [
    "Question 8. Python supports the creation of anonymous functions at runtime, using a construct called"
   ]
  },
  {
   "cell_type": "markdown",
   "id": "20154bb4-a8ff-4acc-b601-eb628cccea9f",
   "metadata": {},
   "source": [
    "lambda"
   ]
  },
  {
   "cell_type": "markdown",
   "id": "4ff6c9a4-8727-4f3a-968c-b25c765db7ef",
   "metadata": {},
   "source": [
    "Question 9. Mention functions which can help us to find a version of python that we are currently working on?"
   ]
  },
  {
   "cell_type": "code",
   "execution_count": null,
   "id": "0ca37bc0-a403-41ca-9a60-b504376fbdb4",
   "metadata": {},
   "outputs": [],
   "source": [
    "# sys.version\n",
    "import sys\n",
    "print(sys.version)\n"
   ]
  },
  {
   "cell_type": "markdown",
   "id": "b36d213d-2ce5-4b89-8574-fd91a2b7c60f",
   "metadata": {},
   "source": [
    "Question 10. What does pip stand for python?"
   ]
  },
  {
   "cell_type": "markdown",
   "id": "b6779782-6946-42cd-bbcd-73f934a231ae",
   "metadata": {},
   "source": [
    "PIP stands for \"Pip Installs Packages.\" It is a package management system in Python that is used to install, upgrade, and manage software packages and their dependencies"
   ]
  },
  {
   "cell_type": "markdown",
   "id": "51fafb48-c52f-454d-bdb6-92f526c9d142",
   "metadata": {},
   "source": [
    "Question 11. Mention some built-in functions in python?"
   ]
  },
  {
   "cell_type": "markdown",
   "id": "1f112643-3e92-4a9b-8431-6c7aeafa12a4",
   "metadata": {},
   "source": [
    "print()\n",
    "str()\n",
    "int()\n",
    "float()\n",
    "len()\n",
    "max()"
   ]
  },
  {
   "cell_type": "markdown",
   "id": "54443434-1042-4a55-9144-d4e0597eb8b0",
   "metadata": {},
   "source": [
    "Question 12. What is the maximum possible length of an identifiers in python?"
   ]
  },
  {
   "cell_type": "markdown",
   "id": "c913c2ce-eeb3-41d3-a15a-865610752258",
   "metadata": {},
   "source": [
    "maximum possible length of an identifiers is 79 characters"
   ]
  },
  {
   "cell_type": "markdown",
   "id": "c730d75c-4143-426b-a531-f77e0a8d4218",
   "metadata": {},
   "source": [
    "Question 13. What are the benifits of using python?"
   ]
  },
  {
   "cell_type": "markdown",
   "id": "6db36148-7787-4845-84da-6796806156f8",
   "metadata": {},
   "source": [
    "1. Readibility and Simplicity\n",
    "2. Large standard library\n",
    "3. Cross platform compatibility (means python is available in multiple platforms like windows, Mac, Unix and Linux)\n",
    "4. Productivity and Rapid Development\n",
    "5. Interogation and Interoparability \n",
    "6. Versatility"
   ]
  },
  {
   "cell_type": "markdown",
   "id": "5f2ce24b-65e4-4abe-ada0-af46dc2697d2",
   "metadata": {},
   "source": [
    "Question 14. How is memory managed in python?"
   ]
  },
  {
   "cell_type": "markdown",
   "id": "e2a39514-f8d0-47e0-9f4c-e6596e451e2f",
   "metadata": {},
   "source": [
    "Python memory management is handled automatically by python interpreter"
   ]
  },
  {
   "cell_type": "markdown",
   "id": "3fd6d9f1-3cc7-413e-b145-212d0a3ed6ea",
   "metadata": {},
   "source": [
    "Question 15. How to install python on windows and set path to variables?"
   ]
  },
  {
   "cell_type": "markdown",
   "id": "f32c5d58-baca-4324-9a4c-53ea5aa6e43a",
   "metadata": {},
   "source": []
  },
  {
   "cell_type": "markdown",
   "id": "755a5605-5b59-40b9-85a1-9616dc547e2e",
   "metadata": {},
   "source": [
    "Question 16. Is indentation is required in python?"
   ]
  },
  {
   "cell_type": "markdown",
   "id": "cfca2303-1fb9-4d98-989f-1b5d77cab3c0",
   "metadata": {},
   "source": [
    "yes, Python uses indentation to define the structure and hierarchy of the code."
   ]
  },
  {
   "cell_type": "code",
   "execution_count": null,
   "id": "b4708160-4bd8-486b-9285-6ef1c83a59fd",
   "metadata": {},
   "outputs": [],
   "source": []
  },
  {
   "cell_type": "code",
   "execution_count": null,
   "id": "da0e97c3-72c3-497e-a992-9d58642b4a06",
   "metadata": {},
   "outputs": [],
   "source": []
  },
  {
   "cell_type": "code",
   "execution_count": null,
   "id": "0d918d11-50ca-4f01-a23f-1b38909783f5",
   "metadata": {},
   "outputs": [],
   "source": []
  },
  {
   "cell_type": "code",
   "execution_count": null,
   "id": "68d030e0-0222-43eb-86ec-31ee17613735",
   "metadata": {},
   "outputs": [],
   "source": []
  },
  {
   "cell_type": "code",
   "execution_count": null,
   "id": "52cb4d51-324d-4992-9eed-0ac26a070d1e",
   "metadata": {},
   "outputs": [],
   "source": []
  },
  {
   "cell_type": "code",
   "execution_count": null,
   "id": "7720f672-82b0-4cb0-a010-f95180979f8d",
   "metadata": {},
   "outputs": [],
   "source": []
  },
  {
   "cell_type": "code",
   "execution_count": null,
   "id": "a160935c-be83-4857-8bfd-8a4526d33484",
   "metadata": {},
   "outputs": [],
   "source": []
  },
  {
   "cell_type": "code",
   "execution_count": null,
   "id": "62e616b2-4d27-487a-a9dd-4b3996314724",
   "metadata": {},
   "outputs": [],
   "source": []
  }
 ],
 "metadata": {
  "kernelspec": {
   "display_name": "Python 3 (ipykernel)",
   "language": "python",
   "name": "python3"
  },
  "language_info": {
   "codemirror_mode": {
    "name": "ipython",
    "version": 3
   },
   "file_extension": ".py",
   "mimetype": "text/x-python",
   "name": "python",
   "nbconvert_exporter": "python",
   "pygments_lexer": "ipython3",
   "version": "3.10.8"
  }
 },
 "nbformat": 4,
 "nbformat_minor": 5
}
